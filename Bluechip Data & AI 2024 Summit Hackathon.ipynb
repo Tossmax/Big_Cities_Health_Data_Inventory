{
  "cells": [
    {
      "cell_type": "markdown",
      "metadata": {
        "id": "view-in-github",
        "colab_type": "text"
      },
      "source": [
        "<a href=\"https://colab.research.google.com/github/Tossmax/Big_Cities_Health_Data_Inventory/blob/master/Bluechip%20Data%20%26%20AI%202024%20Summit%20Hackathon.ipynb\" target=\"_parent\"><img src=\"https://colab.research.google.com/assets/colab-badge.svg\" alt=\"Open In Colab\"/></a>"
      ]
    },
    {
      "cell_type": "code",
      "execution_count": 1,
      "metadata": {
        "id": "_bzjg7M0Q_Yh"
      },
      "outputs": [],
      "source": [
        "import pandas as pd\n",
        "import numpy as np\n",
        "from sklearn.metrics import accuracy_score, precision_score, recall_score, f1_score\n",
        "from sklearn.model_selection import KFold, StratifiedKFold, train_test_split\n",
        "from sklearn.linear_model import LogisticRegression\n",
        "from sklearn.preprocessing import LabelEncoder, StandardScaler\n",
        "from sklearn.metrics import roc_auc_score\n",
        "import xgboost as xgb\n",
        "from sklearn import metrics\n",
        "from sklearn.metrics import confusion_matrix\n",
        "\n",
        "from sklearn.linear_model import LogisticRegression\n",
        "from sklearn.tree import DecisionTreeClassifier\n",
        "from sklearn.ensemble import RandomForestClassifier\n",
        "from sklearn import svm"
      ]
    },
    {
      "cell_type": "code",
      "execution_count": 2,
      "metadata": {
        "id": "CntbEokB5Xjh",
        "colab": {
          "base_uri": "https://localhost:8080/"
        },
        "outputId": "c39d65d2-07b5-43b1-801f-3aa599f97650"
      },
      "outputs": [
        {
          "output_type": "stream",
          "name": "stdout",
          "text": [
            "Requirement already satisfied: xgboost in /usr/local/lib/python3.10/dist-packages (2.1.2)\n",
            "Requirement already satisfied: numpy in /usr/local/lib/python3.10/dist-packages (from xgboost) (1.26.4)\n",
            "Requirement already satisfied: nvidia-nccl-cu12 in /usr/local/lib/python3.10/dist-packages (from xgboost) (2.23.4)\n",
            "Requirement already satisfied: scipy in /usr/local/lib/python3.10/dist-packages (from xgboost) (1.13.1)\n"
          ]
        }
      ],
      "source": [
        "pip install xgboost"
      ]
    },
    {
      "cell_type": "code",
      "execution_count": 3,
      "metadata": {
        "id": "R4O-EunPRV-n"
      },
      "outputs": [],
      "source": [
        "train_data = pd.read_csv('/content/drive/MyDrive/bluechip-summit-credit-worthiness-prediction/Train.csv')\n",
        "test_data = pd.read_csv('/content/drive/MyDrive/bluechip-summit-credit-worthiness-prediction/Test.csv')"
      ]
    },
    {
      "cell_type": "code",
      "execution_count": 4,
      "metadata": {
        "id": "TntBQC6_i5xV"
      },
      "outputs": [],
      "source": [
        "# train_data.isnull().sum()\n",
        "drop_cos = ['ID', 'Loan_ID']\n",
        "train_data = train_data.drop(columns=drop_cos)"
      ]
    },
    {
      "cell_type": "code",
      "execution_count": 5,
      "metadata": {
        "id": "8bb6m_FCk5Xg"
      },
      "outputs": [],
      "source": [
        "# train_data.replace(to_replace=\"3+\", value=3, inplace=True)\n",
        "# from sklearn.preprocessing import LabelEncoder\n",
        "# label_encoder = LabelEncoder()\n",
        "# train_data['Dependents'] = label_encoder.fit_transform(train_data['Dependents'])\n",
        "from sklearn.preprocessing import LabelEncoder\n",
        "\n",
        "# Ensure all values in 'Dependents' are strings\n",
        "train_data['Dependents'] = train_data['Dependents'].astype(str)\n",
        "\n",
        "# Initialize the LabelEncoder and fit-transform the column\n",
        "label_encoder = LabelEncoder()\n",
        "train_data['Dependents'] = label_encoder.fit_transform(train_data['Dependents'])"
      ]
    },
    {
      "cell_type": "code",
      "execution_count": 6,
      "metadata": {
        "id": "JgCrsYCXjpud"
      },
      "outputs": [],
      "source": [
        "train_data['TotalIncome_App'] = train_data['ApplicantIncome'] + train_data['CoapplicantIncome']\n",
        "train_data['TotalIncome_App_log'] = np.log(train_data['TotalIncome_App'])"
      ]
    },
    {
      "cell_type": "code",
      "execution_count": 7,
      "metadata": {
        "id": "ERTL6AO6lxo0"
      },
      "outputs": [],
      "source": [
        "train_data['ApplicantIncome_log'] = np.log(train_data['ApplicantIncome'])\n",
        "\n",
        "train_data['LoanAmount_log'] = np.log(train_data['LoanAmount'])\n",
        "train_data['Loan_Amount_Term_log'] = np.log(train_data['Loan_Amount_Term'])\n",
        "train_data['Total_Income_log'] = np.log(train_data['Total_Income'])\n"
      ]
    },
    {
      "cell_type": "code",
      "execution_count": 8,
      "metadata": {
        "id": "sTJ97kAHnh8R"
      },
      "outputs": [],
      "source": [
        "drop_cols = ['Loan_Amount_Term', 'TotalIncome_App', 'CoapplicantIncome', 'ApplicantIncome', 'LoanAmount', 'Total_Income']\n",
        "train_data = train_data.drop(columns=drop_cols)"
      ]
    },
    {
      "cell_type": "code",
      "execution_count": 9,
      "metadata": {
        "id": "pNDwNcL1pY3R"
      },
      "outputs": [],
      "source": [
        "X = train_data.drop(columns=['Loan_Status'], axis=1)"
      ]
    },
    {
      "cell_type": "code",
      "execution_count": 11,
      "metadata": {
        "id": "PSdxdhkNrQPd"
      },
      "outputs": [],
      "source": [
        "y = train_data['Loan_Status']"
      ]
    },
    {
      "cell_type": "code",
      "execution_count": 12,
      "metadata": {
        "id": "M-u3S8Gwp9Ub"
      },
      "outputs": [],
      "source": [
        "X_train, X_test, y_train, y_test = train_test_split(X, y, test_size=0.2, random_state=42, stratify=y)"
      ]
    },
    {
      "cell_type": "code",
      "execution_count": 13,
      "metadata": {
        "id": "LEPudOE3rkox"
      },
      "outputs": [],
      "source": [
        "from sklearn.model_selection import cross_val_score\n",
        "from sklearn.neighbors import KNeighborsClassifier"
      ]
    },
    {
      "cell_type": "code",
      "execution_count": 14,
      "metadata": {
        "colab": {
          "base_uri": "https://localhost:8080/"
        },
        "id": "uuPWZPXltdeq",
        "outputId": "e18138e0-504c-4ea5-ca54-4dcc7538ee33"
      },
      "outputs": [
        {
          "output_type": "execute_result",
          "data": {
            "text/plain": [
              "0.8330508474576271"
            ]
          },
          "metadata": {},
          "execution_count": 14
        }
      ],
      "source": [
        "model1 = LogisticRegression(max_iter=500)\n",
        "model1.fit(X_train, y_train)\n",
        "y_pred = model1.predict(X_test)\n",
        "accuracy = accuracy_score(y_test, y_pred)\n",
        "\n",
        "accuracy"
      ]
    },
    {
      "cell_type": "code",
      "execution_count": 15,
      "metadata": {
        "colab": {
          "base_uri": "https://localhost:8080/"
        },
        "id": "FSD6GvhlyNMm",
        "outputId": "269824d6-77df-4316-a42e-71040e001a31"
      },
      "outputs": [
        {
          "output_type": "execute_result",
          "data": {
            "text/plain": [
              "0.8329942065237705"
            ]
          },
          "metadata": {},
          "execution_count": 15
        }
      ],
      "source": [
        "score = cross_val_score(model1, X, y, cv=5)\n",
        "np.mean(score)"
      ]
    },
    {
      "cell_type": "code",
      "execution_count": 16,
      "metadata": {
        "colab": {
          "base_uri": "https://localhost:8080/"
        },
        "id": "9kFUiuoJyxV1",
        "outputId": "c316383a-c1d4-4f80-d83e-739ee4084717"
      },
      "outputs": [
        {
          "output_type": "execute_result",
          "data": {
            "text/plain": [
              "0.8330508474576271"
            ]
          },
          "metadata": {},
          "execution_count": 16
        }
      ],
      "source": [
        "model2 = RandomForestClassifier(random_state=42, n_estimators=100)\n",
        "model2.fit(X_train, y_train)\n",
        "y_pred1 = model2.predict(X_test)\n",
        "accuracy1 = accuracy_score(y_test, y_pred)\n",
        "\n",
        "accuracy1"
      ]
    },
    {
      "cell_type": "code",
      "execution_count": 17,
      "metadata": {
        "colab": {
          "base_uri": "https://localhost:8080/"
        },
        "id": "Bn0kdHMszHEJ",
        "outputId": "ac0baa51-c416-4901-8ae1-ce3a9821653a"
      },
      "outputs": [
        {
          "output_type": "execute_result",
          "data": {
            "text/plain": [
              "0.8301122755567055"
            ]
          },
          "metadata": {},
          "execution_count": 17
        }
      ],
      "source": [
        "score = cross_val_score(model2, X, y, cv=5)\n",
        "np.mean(score)"
      ]
    },
    {
      "cell_type": "code",
      "execution_count": 18,
      "metadata": {
        "colab": {
          "base_uri": "https://localhost:8080/"
        },
        "id": "qEmf6II6zjVu",
        "outputId": "6d2538d1-9847-4bd7-dedb-92b3c2d0e2f2"
      },
      "outputs": [
        {
          "output_type": "execute_result",
          "data": {
            "text/plain": [
              "0.8330508474576271"
            ]
          },
          "metadata": {},
          "execution_count": 18
        }
      ],
      "source": [
        "model3 = DecisionTreeClassifier()\n",
        "model3.fit(X_train, y_train)\n",
        "y_pred2 = model3.predict(X_test)\n",
        "accuracy2 = accuracy_score(y_test, y_pred)\n",
        "\n",
        "accuracy2"
      ]
    },
    {
      "cell_type": "code",
      "execution_count": 19,
      "metadata": {
        "colab": {
          "base_uri": "https://localhost:8080/"
        },
        "id": "GWLn0wWF0ldc",
        "outputId": "6de4191b-e6dc-44e2-ebf6-262c48477626"
      },
      "outputs": [
        {
          "output_type": "execute_result",
          "data": {
            "text/plain": [
              "0.7065104009430571"
            ]
          },
          "metadata": {},
          "execution_count": 19
        }
      ],
      "source": [
        "score = cross_val_score(model3, X, y, cv=5)\n",
        "np.mean(score)"
      ]
    },
    {
      "cell_type": "code",
      "execution_count": 20,
      "metadata": {
        "colab": {
          "base_uri": "https://localhost:8080/"
        },
        "id": "MivacgZO04Jp",
        "outputId": "ac27f5fc-abe4-4559-e3fa-679076095f6b"
      },
      "outputs": [
        {
          "output_type": "execute_result",
          "data": {
            "text/plain": [
              "0.8330508474576271"
            ]
          },
          "metadata": {},
          "execution_count": 20
        }
      ],
      "source": [
        "model4 = KNeighborsClassifier()\n",
        "model4.fit(X_train, y_train)\n",
        "y_pred3 = model4.predict(X_test)\n",
        "accuracy3 = accuracy_score(y_test, y_pred)\n",
        "\n",
        "accuracy3"
      ]
    },
    {
      "cell_type": "code",
      "execution_count": 21,
      "metadata": {
        "colab": {
          "base_uri": "https://localhost:8080/"
        },
        "id": "CmhCteA01H6Q",
        "outputId": "7eed22ac-ec0b-42fe-f99c-209900837bdd"
      },
      "outputs": [
        {
          "output_type": "execute_result",
          "data": {
            "text/plain": [
              "0.8141747530944062"
            ]
          },
          "metadata": {},
          "execution_count": 21
        }
      ],
      "source": [
        "score = cross_val_score(model4, X, y, cv=5)\n",
        "np.mean(score)"
      ]
    },
    {
      "cell_type": "code",
      "execution_count": 22,
      "metadata": {
        "colab": {
          "base_uri": "https://localhost:8080/"
        },
        "id": "z-Ba4YcYkkly",
        "outputId": "131976a5-2f3d-4813-d211-475c6565fe18"
      },
      "outputs": [
        {
          "output_type": "execute_result",
          "data": {
            "text/plain": [
              "0.809322033898305"
            ]
          },
          "metadata": {},
          "execution_count": 22
        }
      ],
      "source": [
        "model6 = xgb.XGBClassifier()\n",
        "model6.fit(X_train, y_train)\n",
        "y_pre = model6.predict(X_test)\n",
        "accuracy8 = accuracy_score(y_test, y_pre)\n",
        "\n",
        "accuracy8"
      ]
    },
    {
      "cell_type": "code",
      "execution_count": 23,
      "metadata": {
        "colab": {
          "base_uri": "https://localhost:8080/",
          "height": 663
        },
        "id": "dhOVLlEzmIFh",
        "outputId": "377bca63-656e-47b6-80c8-60c8aaa9e802"
      },
      "outputs": [
        {
          "output_type": "display_data",
          "data": {
            "text/plain": [
              "<Figure size 700x700 with 1 Axes>"
            ],
            "image/png": "[encoded data removed]"
          },
          "metadata": {}
        }
      ],
      "source": [
        "import matplotlib.pyplot as plt\n",
        "from matplotlib import pyplot\n",
        "%matplotlib inline\n",
        "conf_matrix = confusion_matrix(y_true=y_test, y_pred=y_pre)\n",
        "\n",
        "fig, ax = plt.subplots(figsize=(7,7))\n",
        "ax.matshow(conf_matrix, cmap=plt.cm.Accent, alpha=0.4)\n",
        "for i in range(conf_matrix.shape[0]):\n",
        "  for j in range(conf_matrix.shape[1]):\n",
        "    ax.text(x=j, y=i, s=conf_matrix[i, j], va='center', ha='center', size='x-large')\n",
        "\n",
        "plt.xlabel('Predictions', fontsize=10)\n",
        "plt.ylabel('Actuals', fontsize=10)\n",
        "plt.title('confusion matrix', fontsize=10)\n",
        "plt.show()"
      ]
    },
    {
      "cell_type": "code",
      "execution_count": 24,
      "metadata": {
        "colab": {
          "base_uri": "https://localhost:8080/"
        },
        "id": "eZqZ4_vjqR6I",
        "outputId": "588e7e1e-991e-4f48-c728-21c37aaf70d1"
      },
      "outputs": [
        {
          "output_type": "execute_result",
          "data": {
            "text/plain": [
              "[0.8336, 0.9634, 0.8938]"
            ]
          },
          "metadata": {},
          "execution_count": 24
        }
      ],
      "source": [
        "precision_c = round(precision_score(y_test, y_pre), 4)\n",
        "recall_c = round(recall_score(y_test, y_pre),4)\n",
        "f1_s = round(f1_score(y_test, y_pre),4)\n",
        "metrics_o = [precision_c, recall_c, f1_s]\n",
        "\n",
        "metrics_o"
      ]
    },
    {
      "cell_type": "code",
      "execution_count": 25,
      "metadata": {
        "colab": {
          "base_uri": "https://localhost:8080/"
        },
        "id": "n07-owIc1N-8",
        "outputId": "b5edcaec-1392-4230-f768-a01bd846c51b"
      },
      "outputs": [
        {
          "output_type": "stream",
          "name": "stdout",
          "text": [
            "Requirement already satisfied: imbalanced-learn in /usr/local/lib/python3.10/dist-packages (0.12.4)\n",
            "Requirement already satisfied: numpy>=1.17.3 in /usr/local/lib/python3.10/dist-packages (from imbalanced-learn) (1.26.4)\n",
            "Requirement already satisfied: scipy>=1.5.0 in /usr/local/lib/python3.10/dist-packages (from imbalanced-learn) (1.13.1)\n",
            "Requirement already satisfied: scikit-learn>=1.0.2 in /usr/local/lib/python3.10/dist-packages (from imbalanced-learn) (1.5.2)\n",
            "Requirement already satisfied: joblib>=1.1.1 in /usr/local/lib/python3.10/dist-packages (from imbalanced-learn) (1.4.2)\n",
            "Requirement already satisfied: threadpoolctl>=2.0.0 in /usr/local/lib/python3.10/dist-packages (from imbalanced-learn) (3.5.0)\n"
          ]
        }
      ],
      "source": [
        "pip install -U imbalanced-learn"
      ]
    },
    {
      "cell_type": "code",
      "execution_count": 26,
      "metadata": {
        "id": "A4bNtU5425UV"
      },
      "outputs": [],
      "source": [
        "from imblearn.over_sampling import RandomOverSampler"
      ]
    },
    {
      "cell_type": "code",
      "execution_count": 27,
      "metadata": {
        "id": "8Aq7WDZ93Wmi"
      },
      "outputs": [],
      "source": [
        "oversample = RandomOverSampler(random_state=42)"
      ]
    },
    {
      "cell_type": "code",
      "execution_count": 28,
      "metadata": {
        "id": "9BEEsDFW3j0H"
      },
      "outputs": [],
      "source": [
        "X_resampled, y_resampled = oversample.fit_resample(X,y)\n",
        "train_data_resampled = pd.concat(\n",
        "    [pd.DataFrame(X_resampled, columns=X.columns), pd.Series(y_resampled, name='Loan_Status')],\n",
        "    axis=1\n",
        ")"
      ]
    },
    {
      "cell_type": "code",
      "execution_count": 29,
      "metadata": {
        "id": "dFI2CoPv5Xmn"
      },
      "outputs": [],
      "source": [
        "X_resampled_train, X_resampled_test, y_resampled_train, y_resampled_test = train_test_split(X_resampled, y_resampled, test_size=0.2, random_state=42)"
      ]
    },
    {
      "cell_type": "code",
      "execution_count": 30,
      "metadata": {
        "colab": {
          "base_uri": "https://localhost:8080/"
        },
        "id": "sBR0ULVO4-Ek",
        "outputId": "1dc52648-458c-4f23-f3aa-edee1ef66554"
      },
      "outputs": [
        {
          "output_type": "execute_result",
          "data": {
            "text/plain": [
              "0.5193285859613428"
            ]
          },
          "metadata": {},
          "execution_count": 30
        }
      ],
      "source": [
        "model1 = LogisticRegression(max_iter=500)\n",
        "model1.fit(X_resampled_train, y_resampled_train)\n",
        "y_pred = model1.predict(X_resampled_test)\n",
        "accuracy = accuracy_score(y_resampled_test, y_pred)\n",
        "\n",
        "accuracy"
      ]
    },
    {
      "cell_type": "code",
      "execution_count": 31,
      "metadata": {
        "colab": {
          "base_uri": "https://localhost:8080/"
        },
        "id": "_bfUMr295Pec",
        "outputId": "0afc4f59-41db-4db8-f8fa-73dcd95dbd5d"
      },
      "outputs": [
        {
          "output_type": "execute_result",
          "data": {
            "text/plain": [
              "0.95676500508647"
            ]
          },
          "metadata": {},
          "execution_count": 31
        }
      ],
      "source": [
        "model2 = RandomForestClassifier(random_state=42, n_estimators=100)\n",
        "model2.fit(X_resampled_train, y_resampled_train)\n",
        "y_pred1 = model2.predict(X_resampled_test)\n",
        "accuracy1 = accuracy_score(y_resampled_test, y_pred1)\n",
        "\n",
        "accuracy1"
      ]
    },
    {
      "cell_type": "code",
      "execution_count": 32,
      "metadata": {
        "colab": {
          "base_uri": "https://localhost:8080/"
        },
        "id": "9th87XVm9DVw",
        "outputId": "513d118b-f64f-40f3-ba0b-0cf0e5cc0781"
      },
      "outputs": [
        {
          "output_type": "execute_result",
          "data": {
            "text/plain": [
              "0.8825025432349949"
            ]
          },
          "metadata": {},
          "execution_count": 32
        }
      ],
      "source": [
        "model3 = DecisionTreeClassifier()\n",
        "model3.fit(X_resampled_train, y_resampled_train)\n",
        "y_pred2 = model3.predict(X_resampled_test)\n",
        "accuracy2 = accuracy_score(y_resampled_test, y_pred2)\n",
        "\n",
        "accuracy2"
      ]
    },
    {
      "cell_type": "code",
      "execution_count": 33,
      "metadata": {
        "colab": {
          "base_uri": "https://localhost:8080/"
        },
        "id": "77V-Vln_9cfm",
        "outputId": "d0d41b50-8229-43ba-da7c-a9963ecd15cc"
      },
      "outputs": [
        {
          "output_type": "execute_result",
          "data": {
            "text/plain": [
              "0.6958290946083419"
            ]
          },
          "metadata": {},
          "execution_count": 33
        }
      ],
      "source": [
        "model4 = KNeighborsClassifier()\n",
        "model4.fit(X_resampled_train, y_resampled_train)\n",
        "y_pred3 = model4.predict(X_resampled_test)\n",
        "accuracy3 = accuracy_score(y_resampled_test, y_pred3)\n",
        "\n",
        "accuracy3"
      ]
    },
    {
      "cell_type": "code",
      "execution_count": 34,
      "metadata": {
        "colab": {
          "base_uri": "https://localhost:8080/"
        },
        "id": "LasWMRUK9-5G",
        "outputId": "933a178c-bb60-408f-c7b7-f414c7a829df"
      },
      "outputs": [
        {
          "output_type": "execute_result",
          "data": {
            "text/plain": [
              "0.5183112919633774"
            ]
          },
          "metadata": {},
          "execution_count": 34
        }
      ],
      "source": [
        "model5 = svm.SVC(kernel='linear')\n",
        "model5.fit(X_resampled_train, y_resampled_train)\n",
        "y_pred4 = model5.predict(X_resampled_test)\n",
        "accuracy4 = accuracy_score(y_resampled_test, y_pred4)\n",
        "\n",
        "accuracy4"
      ]
    },
    {
      "cell_type": "code",
      "execution_count": 35,
      "metadata": {
        "colab": {
          "base_uri": "https://localhost:8080/"
        },
        "id": "UUwkJ5-d_C89",
        "outputId": "f68b1b81-92e2-4124-85fa-d022dd7b02e2"
      },
      "outputs": [
        {
          "output_type": "execute_result",
          "data": {
            "text/plain": [
              "0.8413021363173957"
            ]
          },
          "metadata": {},
          "execution_count": 35
        }
      ],
      "source": [
        "model6 = xgb.XGBClassifier()\n",
        "model6.fit(X_resampled_train, y_resampled_train)\n",
        "y_pre = model6.predict(X_resampled_test)\n",
        "accuracy8 = accuracy_score(y_resampled_test, y_pre)\n",
        "\n",
        "accuracy8"
      ]
    },
    {
      "cell_type": "code",
      "execution_count": 36,
      "metadata": {
        "colab": {
          "base_uri": "https://localhost:8080/",
          "height": 663
        },
        "id": "fL1uJawotZDi",
        "outputId": "22a40003-0b64-4eb6-e3ac-0ab711de2777"
      },
      "outputs": [
        {
          "output_type": "display_data",
          "data": {
            "text/plain": [
              "<Figure size 700x700 with 1 Axes>"
            ],
            "image/png": "[encoded data removed]"
          },
          "metadata": {}
        }
      ],
      "source": [
        "import matplotlib.pyplot as plt\n",
        "from matplotlib import pyplot\n",
        "%matplotlib inline\n",
        "conf_matrix = confusion_matrix(y_true=y_resampled_test, y_pred=y_pre)\n",
        "\n",
        "fig, ax = plt.subplots(figsize=(7,7))\n",
        "ax.matshow(conf_matrix, cmap=plt.cm.Accent, alpha=0.4)\n",
        "for i in range(conf_matrix.shape[0]):\n",
        "  for j in range(conf_matrix.shape[1]):\n",
        "    ax.text(x=j, y=i, s=conf_matrix[i, j], va='center', ha='center', size='x-large')\n",
        "\n",
        "plt.xlabel('Predictions', fontsize=10)\n",
        "plt.ylabel('Actuals', fontsize=10)\n",
        "plt.title('confusion matrix', fontsize=10)\n",
        "plt.show()"
      ]
    },
    {
      "cell_type": "code",
      "execution_count": 37,
      "metadata": {
        "colab": {
          "base_uri": "https://localhost:8080/"
        },
        "id": "5ITIslRVtyzy",
        "outputId": "b9b36526-5e90-47e0-cbee-ce101bef461e"
      },
      "outputs": [
        {
          "output_type": "execute_result",
          "data": {
            "text/plain": [
              "[0.9001, 0.7797, 0.8356]"
            ]
          },
          "metadata": {},
          "execution_count": 37
        }
      ],
      "source": [
        "precision_c = round(precision_score(y_resampled_test, y_pre), 4)\n",
        "recall_c = round(recall_score(y_resampled_test, y_pre),4)\n",
        "f1_s = round(f1_score(y_resampled_test, y_pre),4)\n",
        "metrics_o = [precision_c, recall_c, f1_s]\n",
        "\n",
        "metrics_o"
      ]
    },
    {
      "cell_type": "code",
      "execution_count": 38,
      "metadata": {
        "id": "C0BQT4KB-gpP"
      },
      "outputs": [],
      "source": [
        "test_data['Dependents'] = label_encoder.fit_transform(test_data['Dependents'])"
      ]
    },
    {
      "cell_type": "code",
      "execution_count": 40,
      "metadata": {
        "id": "f-YPWfpZ-t28"
      },
      "outputs": [],
      "source": [
        "test_data['TotalIncome_App'] = test_data['ApplicantIncome'] + test_data['CoapplicantIncome']\n",
        "test_data['TotalIncome_App_log'] = np.log(test_data['TotalIncome_App'])\n",
        "\n",
        "test_data['ApplicantIncome_log'] = np.log(test_data['ApplicantIncome'])\n",
        "\n",
        "test_data['LoanAmount_log'] = np.log(test_data['LoanAmount'])\n",
        "test_data['Loan_Amount_Term_log'] = np.log(test_data['Loan_Amount_Term'])\n",
        "test_data['Total_Income_log'] = np.log(test_data['Total_Income'])\n",
        "test_data['Total_Income_log'] = np.log(test_data['Total_Income'])"
      ]
    },
    {
      "cell_type": "code",
      "execution_count": 41,
      "metadata": {
        "id": "yO_7ohA-_Hto"
      },
      "outputs": [],
      "source": [
        "drop_col = ['Loan_Amount_Term', 'TotalIncome_App', 'CoapplicantIncome', 'ApplicantIncome', 'LoanAmount', 'Total_Income']\n",
        "test_data = test_data.drop(columns=drop_col)"
      ]
    },
    {
      "cell_type": "code",
      "execution_count": 42,
      "metadata": {
        "id": "FRo5VJklAz-g"
      },
      "outputs": [],
      "source": [
        "test_d = test_data.drop(columns=['ID', 'Loan_ID'], axis=1)"
      ]
    },
    {
      "cell_type": "code",
      "execution_count": 44,
      "metadata": {
        "id": "1HE2k2DkBDpB"
      },
      "outputs": [],
      "source": [
        "y_pred_adaboost = model3.predict(test_d)"
      ]
    },
    {
      "cell_type": "code",
      "execution_count": null,
      "metadata": {
        "colab": {
          "base_uri": "https://localhost:8080/",
          "height": 37
        },
        "id": "_U7UAO2BBQiL",
        "outputId": "cf44d83d-0ef4-44a9-d4d2-529c13eb6327"
      },
      "outputs": [
        {
          "data": {
            "application/javascript": [
              "\n",
              "    async function download(id, filename, size) {\n",
              "      if (!google.colab.kernel.accessAllowed) {\n",
              "        return;\n",
              "      }\n",
              "      const div = document.createElement('div');\n",
              "      const label = document.createElement('label');\n",
              "      label.textContent = `Downloading \"${filename}\": `;\n",
              "      div.appendChild(label);\n",
              "      const progress = document.createElement('progress');\n",
              "      progress.max = size;\n",
              "      div.appendChild(progress);\n",
              "      document.body.appendChild(div);\n",
              "\n",
              "      const buffers = [];\n",
              "      let downloaded = 0;\n",
              "\n",
              "      const channel = await google.colab.kernel.comms.open(id);\n",
              "      // Send a message to notify the kernel that we're ready.\n",
              "      channel.send({})\n",
              "\n",
              "      for await (const message of channel.messages) {\n",
              "        // Send a message to notify the kernel that we're ready.\n",
              "        channel.send({})\n",
              "        if (message.buffers) {\n",
              "          for (const buffer of message.buffers) {\n",
              "            buffers.push(buffer);\n",
              "            downloaded += buffer.byteLength;\n",
              "            progress.value = downloaded;\n",
              "          }\n",
              "        }\n",
              "      }\n",
              "      const blob = new Blob(buffers, {type: 'application/binary'});\n",
              "      const a = document.createElement('a');\n",
              "      a.href = window.URL.createObjectURL(blob);\n",
              "      a.download = filename;\n",
              "      div.appendChild(a);\n",
              "      a.click();\n",
              "      div.remove();\n",
              "    }\n",
              "  "
            ],
            "text/plain": [
              "<IPython.core.display.Javascript object>"
            ]
          },
          "metadata": {},
          "output_type": "display_data"
        },
        {
          "data": {
            "application/javascript": [
              "download(\"download_792dcd27-40c5-4ce9-abf4-9616f5e68bfc\", \"nhsub.csv\", 20239)"
            ],
            "text/plain": [
              "<IPython.core.display.Javascript object>"
            ]
          },
          "metadata": {},
          "output_type": "display_data"
        }
      ],
      "source": [
        "TOO_submission = pd.DataFrame({\"ID\": test_data[\"ID\"], \"Loan_Status\": y_pred_adaboost})\n",
        "TOO_submission.to_csv('nhsub.csv', index=False)\n",
        "from google.colab import files\n",
        "files.download('nhsub.csv')"
      ]
    },
    {
      "cell_type": "code",
      "execution_count": null,
      "metadata": {
        "colab": {
          "base_uri": "https://localhost:8080/"
        },
        "id": "vCQi6-Pi59XS",
        "outputId": "20d7d971-46cf-474f-f926-1d655948d0f7"
      },
      "outputs": [
        {
          "name": "stderr",
          "output_type": "stream",
          "text": [
            "/usr/local/lib/python3.10/dist-packages/sklearn/ensemble/_weight_boosting.py:527: FutureWarning: The SAMME.R algorithm (the default) is deprecated and will be removed in 1.6. Use the SAMME algorithm to circumvent this warning.\n",
            "  warnings.warn(\n"
          ]
        },
        {
          "name": "stdout",
          "output_type": "stream",
          "text": [
            "Validation Accuracy with AdaBoost: 0.8331\n"
          ]
        }
      ],
      "source": [
        "from sklearn.ensemble import AdaBoostClassifier\n",
        "from sklearn.tree import DecisionTreeClassifier\n",
        "from sklearn.metrics import accuracy_score\n",
        "\n",
        "# Initialize the AdaBoost classifier with a decision tree as the base estimator\n",
        "adaboost_model = AdaBoostClassifier(\n",
        "    n_estimators=500,  # Number of weak learners\n",
        "    learning_rate=0.1,  # Learning rate for each classifier's contribution\n",
        "    random_state=42\n",
        ")\n",
        "\n",
        "# Train AdaBoost on the training data\n",
        "adaboost_model.fit(X_train, y_train)\n",
        "\n",
        "# Predict on the validation set\n",
        "y_pred_adaboost = adaboost_model.predict(X_test)\n",
        "\n",
        "# Calculate accuracy\n",
        "accuracy_adaboost = accuracy_score(y_test, y_pred_adaboost)\n",
        "print(f\"Validation Accuracy with AdaBoost: {accuracy_adaboost:.4f}\")\n"
      ]
    },
    {
      "cell_type": "code",
      "execution_count": null,
      "metadata": {
        "id": "qXGOjGlpB4Ba"
      },
      "outputs": [],
      "source": []
    }
  ],
  "metadata": {
    "colab": {
      "provenance": [],
      "mount_file_id": "1jblogmsYQz1T_JSIKkvNP2xJdj45l9dg",
      "authorship_tag": "ABX9TyP7EcudNDfdGKi8p3xJ9MV8",
      "include_colab_link": true
    },
    "kernelspec": {
      "display_name": "Python 3",
      "name": "python3"
    },
    "language_info": {
      "name": "python"
    }
  },
  "nbformat": 4,
  "nbformat_minor": 0
}