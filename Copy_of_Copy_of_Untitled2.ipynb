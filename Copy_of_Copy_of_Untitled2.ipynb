{
  "nbformat": 4,
  "nbformat_minor": 0,
  "metadata": {
    "colab": {
      "name": "Copy of Copy of Untitled2.ipynb",
      "provenance": [],
      "collapsed_sections": [],
      "mount_file_id": "1tZMB7o7rB-tafa094SO8iPUu86gkh3jn",
      "authorship_tag": "ABX9TyNNgb0T94UAVDYow30OvJvp",
      "include_colab_link": true
    },
    "kernelspec": {
      "name": "python3",
      "display_name": "Python 3"
    }
  },
  "cells": [
    {
      "cell_type": "markdown",
      "metadata": {
        "id": "view-in-github",
        "colab_type": "text"
      },
      "source": [
        "<a href=\"https://colab.research.google.com/github/Tossmax/Big_Cities_Health_Data_Inventory/blob/master/Copy_of_Copy_of_Untitled2.ipynb\" target=\"_parent\"><img src=\"https://colab.research.google.com/assets/colab-badge.svg\" alt=\"Open In Colab\"/></a>"
      ]
    },
    {
      "cell_type": "code",
      "metadata": {
        "id": "_zc0CHO8nGLV"
      },
      "source": [
        "import pandas as pd\n",
        "import numpy as np\n",
        "import matplotlib.pyplot as plt\n",
        "import seaborn as sns\n",
        "sns.set()\n",
        "pd.set_option('display.max_columns', None)"
      ],
      "execution_count": null,
      "outputs": []
    },
    {
      "cell_type": "code",
      "metadata": {
        "id": "kEpCuDztnecI"
      },
      "source": [
        "from sklearn.preprocessing import LabelEncoder\n",
        "from sklearn.metrics import roc_auc_score"
      ],
      "execution_count": null,
      "outputs": []
    },
    {
      "cell_type": "code",
      "metadata": {
        "id": "DJVjCI_snvEP"
      },
      "source": [
        "numerical_features = [col for col in train_df.columns if train_df[col].dtypes != object]\n",
        "categorical_features = [col for col in train_df.columns if train_df[col].dtypes == object]"
      ],
      "execution_count": null,
      "outputs": []
    },
    {
      "cell_type": "code",
      "metadata": {
        "id": "AiQp4P9Bn0kg"
      },
      "source": [
        "numerical_cols = [col for col in test_df.columns if test_df[col].dtypes != object]\n",
        "categorical_cols = [col for col in test_df.columns if test_df[col].dtypes == object]"
      ],
      "execution_count": null,
      "outputs": []
    },
    {
      "cell_type": "code",
      "metadata": {
        "id": "yCFkw9QMn4l5"
      },
      "source": [
        "train_df[numerical_features] = train_df[numerical_features].fillna(-999)"
      ],
      "execution_count": null,
      "outputs": []
    },
    {
      "cell_type": "code",
      "metadata": {
        "id": "W8WiGsp4n-pV"
      },
      "source": [
        "test_df[numerical_cols] = test_df[numerical_cols].fillna(-999)"
      ],
      "execution_count": null,
      "outputs": []
    },
    {
      "cell_type": "code",
      "metadata": {
        "id": "wrccu8X3oElT"
      },
      "source": [
        "encoder = LabelEncoder()\n",
        "\n",
        "tran_f = ['default_status', 'form_field47']\n",
        "\n",
        "for col in tran_f:\n",
        "    train_df[col] = encoder.fit_transform(train_df[col])"
      ],
      "execution_count": null,
      "outputs": []
    },
    {
      "cell_type": "code",
      "metadata": {
        "id": "meTNQht7oKcd"
      },
      "source": [
        "label_encoder = LabelEncoder()\n",
        "\n",
        "test_df['form_field47'] = label_encoder.fit_transform(test_df['form_field47'])"
      ],
      "execution_count": null,
      "outputs": []
    },
    {
      "cell_type": "code",
      "metadata": {
        "id": "xD2Fis5zoQV8"
      },
      "source": [
        "feature_names = ['form_field1', 'form_field2',  'form_field3', 'form_field4', 'form_field5', 'form_field6', 'form_field7', 'form_field8', 'form_field9', 'form_field10', 'form_field11', 'form_field12', 'form_field13',  'form_field14', 'form_field15', 'form_field16', 'form_field17', 'form_field18', 'form_field20', 'form_field21', 'form_field22', 'form_field23', 'form_field24', 'form_field25', 'form_field26', 'form_field27', 'form_field28', 'form_field29', 'form_field30', 'form_field31', 'form_field32', 'form_field33', 'form_field34', 'form_field35', 'form_field36', 'form_field37', 'form_field38', 'form_field39', 'form_field40', 'form_field41', 'form_field42', 'form_field43', 'form_field44', 'form_field45', 'form_field46', 'form_field47', 'form_field48', 'form_field49', 'form_field50']\n",
        "X = train_df[feature_names]\n",
        "y = train_df.default_status"
      ],
      "execution_count": null,
      "outputs": []
    },
    {
      "cell_type": "code",
      "metadata": {
        "id": "HrWzVTA5oUlH"
      },
      "source": [
        "from sklearn.linear_model import LogisticRegression\n",
        "from sklearn.model_selection import KFold, StratifiedKFold, train_test_split\n",
        "from sklearn.preprocessing import MinMaxScaler\n",
        "from sklearn.pipeline import Pipeline\n",
        "from catboost import CatBoostClassifier\n",
        "from xgboost import XGBClassifier \n",
        "from lightgbm import LGBMClassifier\n",
        "from sklearn.ensemble import RandomForestClassifier, VotingClassifier, StackingClassifier"
      ],
      "execution_count": null,
      "outputs": []
    },
    {
      "cell_type": "code",
      "metadata": {
        "id": "6lvTFeoQpNoa"
      },
      "source": [
        "cat = CatBoostClassifier(n_estimators=100, thread_count=-1, od_type='Iter', loss_function='Logloss', verbose=False)\n",
        "rf = RandomForestClassifier(n_estimators=100, n_jobs=-1)\n",
        "xg = XGBClassifier( n_jobs =-1)\n",
        "lg = LGBMClassifier( n_jobs=-1)\n",
        "lr = LogisticRegression()\n",
        "minmax = MinMaxScaler()"
      ],
      "execution_count": null,
      "outputs": []
    },
    {
      "cell_type": "code",
      "metadata": {
        "id": "UWO-seUGpTGt"
      },
      "source": [
        "x_train, x_test, y_train, y_test = train_test_split(X, y, stratify=y, random_state=42)"
      ],
      "execution_count": null,
      "outputs": []
    },
    {
      "cell_type": "code",
      "metadata": {
        "id": "vtDuBKP-pZA6",
        "outputId": "31ebb5db-610f-49f6-a01c-c91fc6f6ff55",
        "colab": {
          "base_uri": "https://localhost:8080/",
          "height": 578
        }
      },
      "source": [
        "use_classifier = [('cat', cat), ('xg', xg), ('lg', lg), ('rf', rf)]\n",
        "model = VotingClassifier(estimators= use_classifier, voting='soft')\n",
        "pipe = Pipeline(steps =[('scaler', minmax), ('model', model)])\n",
        "pipe.fit(x_train, y_train)"
      ],
      "execution_count": null,
      "outputs": [
        {
          "output_type": "execute_result",
          "data": {
            "text/plain": [
              "Pipeline(memory=None,\n",
              "         steps=[('scaler', MinMaxScaler(copy=True, feature_range=(0, 1))),\n",
              "                ('model',\n",
              "                 VotingClassifier(estimators=[('cat',\n",
              "                                               <catboost.core.CatBoostClassifier object at 0x7fc537b51898>),\n",
              "                                              ('xg',\n",
              "                                               XGBClassifier(base_score=0.5,\n",
              "                                                             booster='gbtree',\n",
              "                                                             colsample_bylevel=1,\n",
              "                                                             colsample_bynode=1,\n",
              "                                                             colsample_bytree=1,\n",
              "                                                             gamma=0,\n",
              "                                                             learning_rate=0.1,\n",
              "                                                             max_delta_step=0,\n",
              "                                                             max_depth=3...\n",
              "                                                                      max_depth=None,\n",
              "                                                                      max_features='auto',\n",
              "                                                                      max_leaf_nodes=None,\n",
              "                                                                      max_samples=None,\n",
              "                                                                      min_impurity_decrease=0.0,\n",
              "                                                                      min_impurity_split=None,\n",
              "                                                                      min_samples_leaf=1,\n",
              "                                                                      min_samples_split=2,\n",
              "                                                                      min_weight_fraction_leaf=0.0,\n",
              "                                                                      n_estimators=100,\n",
              "                                                                      n_jobs=-1,\n",
              "                                                                      oob_score=False,\n",
              "                                                                      random_state=None,\n",
              "                                                                      verbose=0,\n",
              "                                                                      warm_start=False))],\n",
              "                                  flatten_transform=True, n_jobs=None,\n",
              "                                  voting='soft', weights=None))],\n",
              "         verbose=False)"
            ]
          },
          "metadata": {
            "tags": []
          },
          "execution_count": 23
        }
      ]
    },
    {
      "cell_type": "code",
      "metadata": {
        "id": "Ikatai_gpcQt",
        "outputId": "430f293d-2a49-4229-973a-d5a46bd2b98d",
        "colab": {
          "base_uri": "https://localhost:8080/",
          "height": 34
        }
      },
      "source": [
        "pipe.score(x_test, y_test)"
      ],
      "execution_count": null,
      "outputs": [
        {
          "output_type": "execute_result",
          "data": {
            "text/plain": [
              "0.8127142857142857"
            ]
          },
          "metadata": {
            "tags": []
          },
          "execution_count": 24
        }
      ]
    },
    {
      "cell_type": "code",
      "metadata": {
        "id": "Ah9wNTi9pzou"
      },
      "source": [
        "feature_nam = ['form_field1', 'form_field2',  'form_field3', 'form_field4', 'form_field5', 'form_field6', 'form_field7', 'form_field8', 'form_field9', 'form_field10', 'form_field11', 'form_field12', 'form_field13',  'form_field14', 'form_field15', 'form_field16', 'form_field17', 'form_field18', 'form_field20', 'form_field21', 'form_field22', 'form_field23', 'form_field24', 'form_field25', 'form_field26', 'form_field27', 'form_field28', 'form_field29', 'form_field30', 'form_field31', 'form_field32', 'form_field33', 'form_field34', 'form_field35', 'form_field36', 'form_field37', 'form_field38', 'form_field39', 'form_field40', 'form_field41', 'form_field42', 'form_field43', 'form_field44', 'form_field45', 'form_field46', 'form_field47', 'form_field48', 'form_field49', 'form_field50']\n",
        "X_test = test_df[feature_nam]"
      ],
      "execution_count": null,
      "outputs": []
    },
    {
      "cell_type": "code",
      "metadata": {
        "id": "66zI1X7Bp75n",
        "outputId": "7e101072-e0b0-48cb-9714-50fca1cf8d28",
        "colab": {
          "base_uri": "https://localhost:8080/",
          "height": 34
        }
      },
      "source": [
        "from sklearn.metrics import accuracy_score\n",
        "score = roc_auc_score(y_test, pipe.predict_proba(x_test)[:, 1])\n",
        "print(score)"
      ],
      "execution_count": null,
      "outputs": [
        {
          "output_type": "stream",
          "text": [
            "0.8413107893881696\n"
          ],
          "name": "stdout"
        }
      ]
    },
    {
      "cell_type": "code",
      "metadata": {
        "id": "zVwbouOJqB8h"
      },
      "source": [
        "from skopt.space import Real, Categorical, Integer"
      ],
      "execution_count": null,
      "outputs": []
    },
    {
      "cell_type": "code",
      "metadata": {
        "id": "b8qS3F9oqPqR",
        "outputId": "ae1033a6-cbe8-4410-ebd1-5692eb7f433f",
        "colab": {
          "base_uri": "https://localhost:8080/",
          "height": 384
        }
      },
      "source": [
        "splits = 30\n",
        " \n",
        "skfold = StratifiedKFold(n_splits=splits, random_state=42, shuffle=True)\n",
        "kfold = KFold(n_splits=splits, shuffle=True, random_state=42)"
      ],
      "execution_count": null,
      "outputs": [
        {
          "output_type": "error",
          "ename": "NameError",
          "evalue": "ignored",
          "traceback": [
            "\u001b[0;31m---------------------------------------------------------------------------\u001b[0m",
            "\u001b[0;31mNameError\u001b[0m                                 Traceback (most recent call last)",
            "\u001b[0;32m<ipython-input-1-b2f4665c7704>\u001b[0m in \u001b[0;36m<module>\u001b[0;34m()\u001b[0m\n\u001b[1;32m      1\u001b[0m \u001b[0msplits\u001b[0m \u001b[0;34m=\u001b[0m \u001b[0;36m30\u001b[0m\u001b[0;34m\u001b[0m\u001b[0;34m\u001b[0m\u001b[0m\n\u001b[1;32m      2\u001b[0m \u001b[0;34m\u001b[0m\u001b[0m\n\u001b[0;32m----> 3\u001b[0;31m \u001b[0mskfold\u001b[0m \u001b[0;34m=\u001b[0m \u001b[0mStratifiedKFold\u001b[0m\u001b[0;34m(\u001b[0m\u001b[0mn_splits\u001b[0m\u001b[0;34m=\u001b[0m\u001b[0msplits\u001b[0m\u001b[0;34m,\u001b[0m \u001b[0mrandom_state\u001b[0m\u001b[0;34m=\u001b[0m\u001b[0;36m42\u001b[0m\u001b[0;34m,\u001b[0m \u001b[0mshuffle\u001b[0m\u001b[0;34m=\u001b[0m\u001b[0;32mTrue\u001b[0m\u001b[0;34m)\u001b[0m\u001b[0;34m\u001b[0m\u001b[0;34m\u001b[0m\u001b[0m\n\u001b[0m\u001b[1;32m      4\u001b[0m \u001b[0mkfold\u001b[0m \u001b[0;34m=\u001b[0m \u001b[0mKFold\u001b[0m\u001b[0;34m(\u001b[0m\u001b[0mn_splits\u001b[0m\u001b[0;34m=\u001b[0m\u001b[0msplits\u001b[0m\u001b[0;34m,\u001b[0m \u001b[0mshuffle\u001b[0m\u001b[0;34m=\u001b[0m\u001b[0;32mTrue\u001b[0m\u001b[0;34m,\u001b[0m \u001b[0mrandom_state\u001b[0m\u001b[0;34m=\u001b[0m\u001b[0;36m42\u001b[0m\u001b[0;34m)\u001b[0m\u001b[0;34m\u001b[0m\u001b[0;34m\u001b[0m\u001b[0m\n",
            "\u001b[0;31mNameError\u001b[0m: name 'StratifiedKFold' is not defined"
          ]
        }
      ]
    },
    {
      "cell_type": "code",
      "metadata": {
        "id": "p_YtgVW_BlZe"
      },
      "source": [
        "scores = []\n",
        "preds = []\n",
        " \n",
        "vc = VotingClassifier(estimators=[('cat', CatBoostClassifier(verbose=False, random_state=22, thread_count= -1)), ('cat2', CatBoostClassifier(bagging_temperature = 0.8373883555532844, border_count = 225,  depth = 8, iterations = 265, l2_leaf_reg = 5, learning_rate = 0.018906758484967926, random_strength=3.43458268604567e-06, scale_pos_weight=0.6393718108603786, verbose=False, random_state=42, thread_count= -1)),\n",
        "               ('lg', LGBMClassifier(n_jobs= -1, objective= 'Binary', metric='AUC',  random_state=32)), ('rf', RandomForestClassifier(n_estimators=500, n_jobs=-1))], voting = 'soft')\n",
        "i = 1\n",
        " \n",
        "for train_split, test_split in skfold.split(X, y):\n",
        "    pipe = Pipeline([('scaler', minmax), ('model', vc)])\n",
        "    x_train, x_test, y_train, y_test = X.iloc[train_split], X.iloc[test_split], y.iloc[train_split], y.iloc[test_split]\n",
        "    pipe.fit(x_train, y_train)\n",
        "    print('number of splits trained {} '.format(i))\n",
        "    score = roc_auc_score(y_test, pipe.predict_proba(x_test)[:, 1])\n",
        "    pred = pipe.predict_proba(X_test)[:, 1]\n",
        "    scores.append(score)\n",
        "    preds.append(pred)\n",
        "    i += 1\n",
        "np.mean(score)"
      ],
      "execution_count": null,
      "outputs": []
    },
    {
      "cell_type": "code",
      "metadata": {
        "id": "E6NVzjH7OPMF"
      },
      "source": [
        "TOO_submission = pd.DataFrame({\"Applicant_ID\": test_df[\"Applicant_ID\"], \"default_status\" :  pred})"
      ],
      "execution_count": null,
      "outputs": []
    },
    {
      "cell_type": "code",
      "metadata": {
        "id": "lMD7swGnOXiX"
      },
      "source": [
        "TOO_submission.to_csv('Predica.csv', index=False)"
      ],
      "execution_count": null,
      "outputs": []
    },
    {
      "cell_type": "code",
      "metadata": {
        "id": "clg_hqUYOf9-"
      },
      "source": [
        ""
      ],
      "execution_count": null,
      "outputs": []
    }
  ]
}